{
 "cells": [
  {
   "cell_type": "markdown",
   "id": "29dd5b68",
   "metadata": {},
   "source": [
    "# 1. In the below elements which of them are values or an expression? eg:- values can be integer or string and expressions will be mathematical operators."
   ]
  },
  {
   "cell_type": "code",
   "execution_count": null,
   "id": "f96a28da",
   "metadata": {},
   "outputs": [],
   "source": [
    "* = Expression\n",
    "'hello' = Values \n",
    "-87.8 = Values\n",
    "-  = Expression\n",
    "/  = Expression\n",
    "+  = Expression\n",
    "6  = Values\n"
   ]
  },
  {
   "cell_type": "markdown",
   "id": "23f3f316",
   "metadata": {},
   "source": [
    "# 2. What is the difference between string and variable?"
   ]
  },
  {
   "cell_type": "code",
   "execution_count": null,
   "id": "7a32780d",
   "metadata": {},
   "outputs": [],
   "source": [
    "String is a Value which is present in quotes. where as variable  is location to store evrything from string to integer in our primary memory."
   ]
  },
  {
   "cell_type": "markdown",
   "id": "b8851ffc",
   "metadata": {},
   "source": [
    "# 3. Describe three different data types."
   ]
  },
  {
   "cell_type": "code",
   "execution_count": null,
   "id": "305f180f",
   "metadata": {},
   "outputs": [],
   "source": [
    "1) Integers : any Integers positive or negative\n",
    "2) Boolean Type : True  of False \n",
    "3) String : anything in quote is string     "
   ]
  },
  {
   "cell_type": "markdown",
   "id": "4cec6563",
   "metadata": {},
   "source": [
    "# 4. What is an expression made up of? What do all expressions do?"
   ]
  },
  {
   "cell_type": "code",
   "execution_count": null,
   "id": "702993ba",
   "metadata": {},
   "outputs": [],
   "source": [
    "A sequence of operation or operator, for example a+b-5+3/2 is  known as expression.  Expressions are used to pretend mathematical model and try to find mathematical solution."
   ]
  },
  {
   "cell_type": "markdown",
   "id": "4e0236fa",
   "metadata": {},
   "source": [
    "# 5. This assignment statements, like spam = 10. What is the difference between an expression and a statement?"
   ]
  },
  {
   "cell_type": "code",
   "execution_count": null,
   "id": "eab4a450",
   "metadata": {},
   "outputs": [],
   "source": [
    "In statement like spam = 10, value 10 is been assign to variable 'spam'. Statement are use to assign value or for results like print statment. But with expression we are able to find value  result and expression is just the combination of operator.  "
   ]
  },
  {
   "cell_type": "markdown",
   "id": "63572073",
   "metadata": {},
   "source": [
    "\n",
    "# 6. After running the following code, what does the variable bacon contain?\n",
    "bacon = 22\n",
    "bacon + 1\n"
   ]
  },
  {
   "cell_type": "code",
   "execution_count": null,
   "id": "1161c6f8",
   "metadata": {},
   "outputs": [],
   "source": [
    "bacon = 23"
   ]
  },
  {
   "cell_type": "markdown",
   "id": "b42d3959",
   "metadata": {},
   "source": [
    "# 7. What should the values of the following two terms be?\n",
    "'spam' + 'spamspam'\n",
    "'spam' * 3\n"
   ]
  },
  {
   "cell_type": "code",
   "execution_count": null,
   "id": "f4a4c56c",
   "metadata": {},
   "outputs": [],
   "source": [
    "'spamspamspam' and 'spamspamspam'"
   ]
  },
  {
   "cell_type": "markdown",
   "id": "e2e9585a",
   "metadata": {},
   "source": [
    "# 8. Why is eggs a valid variable name while 100 is invalid?\n"
   ]
  },
  {
   "cell_type": "code",
   "execution_count": null,
   "id": "586ae5aa",
   "metadata": {},
   "outputs": [],
   "source": [
    "eggs is not a number and 100 is number hence eggs can be a valid  variable and 100 can not."
   ]
  },
  {
   "cell_type": "markdown",
   "id": "27d4779b",
   "metadata": {},
   "source": [
    "# 9. What three functions can be used to get the integer, floating-point number, or string version of a value?"
   ]
  },
  {
   "cell_type": "code",
   "execution_count": null,
   "id": "edf3edb5",
   "metadata": {},
   "outputs": [],
   "source": [
    "for example \n",
    "a = 3\n",
    "b =  3.5\n",
    "c = '3'"
   ]
  },
  {
   "cell_type": "markdown",
   "id": "2cd79514",
   "metadata": {},
   "source": [
    "# 10. Why does this expression cause an error? How can you fix it?\n",
    "'I have eaten ' + 99 + ' burritos.'\n"
   ]
  },
  {
   "cell_type": "code",
   "execution_count": null,
   "id": "fde77e0c",
   "metadata": {},
   "outputs": [],
   "source": [
    "put 99 in \"\", because concatination can not take place with integer. "
   ]
  }
 ],
 "metadata": {
  "kernelspec": {
   "display_name": "Python 3 (ipykernel)",
   "language": "python",
   "name": "python3"
  },
  "language_info": {
   "codemirror_mode": {
    "name": "ipython",
    "version": 3
   },
   "file_extension": ".py",
   "mimetype": "text/x-python",
   "name": "python",
   "nbconvert_exporter": "python",
   "pygments_lexer": "ipython3",
   "version": "3.9.7"
  }
 },
 "nbformat": 4,
 "nbformat_minor": 5
}
