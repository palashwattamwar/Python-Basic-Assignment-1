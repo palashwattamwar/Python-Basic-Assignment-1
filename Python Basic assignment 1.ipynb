{
 "cells": [
  {
   "cell_type": "markdown",
   "id": "29dd5b68",
   "metadata": {},
   "source": [
    "# 1. In the below elements which of them are values or an expression? eg:- values can be integer or string and expressions will be mathematical operators."
   ]
  },
  {
   "cell_type": "raw",
   "id": "73e022f4",
   "metadata": {},
   "source": [
    "* = Expression\n",
    "'hello' = Values \n",
    "-87.8 = Values\n",
    "-  = Expression\n",
    "/  = Expression\n",
    "+  = Expression\n",
    "6  = Values\n"
   ]
  },
  {
   "cell_type": "markdown",
   "id": "23f3f316",
   "metadata": {},
   "source": [
    "# 2. What is the difference between string and variable?"
   ]
  },
  {
   "cell_type": "raw",
   "id": "c8547961",
   "metadata": {},
   "source": [
    "String is a Value which is present in quotes. where as variable  is location to store evrything from string to integer in our primary memory."
   ]
  },
  {
   "cell_type": "markdown",
   "id": "b8851ffc",
   "metadata": {},
   "source": [
    "# 3. Describe three different data types."
   ]
  },
  {
   "cell_type": "raw",
   "id": "0dce04ef",
   "metadata": {},
   "source": [
    "1) Integers : any Integers positive or negative\n",
    "2) Boolean Type : True  of False \n",
    "3) String : anything in quote is string     "
   ]
  },
  {
   "cell_type": "markdown",
   "id": "d54c17c1",
   "metadata": {},
   "source": [
    "# 4. What is an expression made up of? What do all expressions do?"
   ]
  },
  {
   "cell_type": "raw",
   "id": "6729321c",
   "metadata": {},
   "source": [
    "A sequence of operation or operator, for example a+b-5+3/2 is  known as expression.  Expressions are used to pretend mathematical model and try to find mathematical solution."
   ]
  },
  {
   "cell_type": "markdown",
   "id": "643a1ed6",
   "metadata": {},
   "source": [
    "# 5. This assignment statements, like spam = 10. What is the difference between an expression and a statement?"
   ]
  },
  {
   "cell_type": "raw",
   "id": "38243f50",
   "metadata": {},
   "source": [
    "In statement like spam = 10, value 10 is been assign to variable 'spam'. Statement are use to assign value or for results like print statment. But with expression we are able to find value  result and expression is just the combination of operator.  "
   ]
  },
  {
   "cell_type": "markdown",
   "id": "d3989a53",
   "metadata": {},
   "source": [
    "\n",
    "# 6. After running the following code, what does the variable bacon contain?\n",
    "bacon = 22\n",
    "bacon + 1\n"
   ]
  },
  {
   "cell_type": "raw",
   "id": "27baecbb",
   "metadata": {},
   "source": [
    "bacon = 23"
   ]
  },
  {
   "cell_type": "markdown",
   "id": "97cac070",
   "metadata": {},
   "source": [
    "# 7. What should the values of the following two terms be?\n",
    "'spam' + 'spamspam'\n",
    "'spam' * 3\n"
   ]
  },
  {
   "cell_type": "raw",
   "id": "c3b9ed99",
   "metadata": {},
   "source": [
    "'spamspamspam' and 'spamspamspam'"
   ]
  },
  {
   "cell_type": "markdown",
   "id": "c599d013",
   "metadata": {},
   "source": [
    "# 8. Why is eggs a valid variable name while 100 is invalid?\n"
   ]
  },
  {
   "cell_type": "raw",
   "id": "d725bd56",
   "metadata": {},
   "source": [
    "eggs is not a number and 100 is number hence eggs can be a valid  variable and 100 can not."
   ]
  },
  {
   "cell_type": "markdown",
   "id": "ca9846d7",
   "metadata": {},
   "source": [
    "# 9. What three functions can be used to get the integer, floating-point number, or string version of a value?"
   ]
  },
  {
   "cell_type": "raw",
   "id": "d55ed479",
   "metadata": {},
   "source": [
    "for example \n",
    "a = 3\n",
    "b =  3.5\n",
    "c = '3'"
   ]
  },
  {
   "cell_type": "markdown",
   "id": "8a6ed7a0",
   "metadata": {},
   "source": [
    "# 10. Why does this expression cause an error? How can you fix it?\n",
    "'I have eaten ' + 99 + ' burritos.'\n"
   ]
  },
  {
   "cell_type": "code",
   "execution_count": null,
   "id": "ebe83e12",
   "metadata": {},
   "outputs": [],
   "source": [
    "put 99 in \"\", because concatination can not take place with integer. "
   ]
  }
 ],
 "metadata": {
  "kernelspec": {
   "display_name": "Python 3 (ipykernel)",
   "language": "python",
   "name": "python3"
  },
  "language_info": {
   "codemirror_mode": {
    "name": "ipython",
    "version": 3
   },
   "file_extension": ".py",
   "mimetype": "text/x-python",
   "name": "python",
   "nbconvert_exporter": "python",
   "pygments_lexer": "ipython3",
   "version": "3.9.7"
  }
 },
 "nbformat": 4,
 "nbformat_minor": 5
}
