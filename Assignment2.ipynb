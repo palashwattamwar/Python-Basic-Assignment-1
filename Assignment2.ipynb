{
 "cells": [
  {
   "cell_type": "code",
   "execution_count": null,
   "id": "a08c629d",
   "metadata": {},
   "outputs": [],
   "source": [
    "1.What are the two values of the Boolean data type? How do you write them?"
   ]
  },
  {
   "cell_type": "code",
   "execution_count": null,
   "id": "339372a6",
   "metadata": {},
   "outputs": [],
   "source": [
    "True, False"
   ]
  },
  {
   "cell_type": "code",
   "execution_count": null,
   "id": "2918da88",
   "metadata": {},
   "outputs": [],
   "source": [
    "2. What are the three different types of Boolean operators?"
   ]
  },
  {
   "cell_type": "code",
   "execution_count": null,
   "id": "5362e516",
   "metadata": {},
   "outputs": [],
   "source": [
    "AND, OR, NOT"
   ]
  },
  {
   "cell_type": "code",
   "execution_count": null,
   "id": "490c8726",
   "metadata": {},
   "outputs": [],
   "source": [
    "3. Make a list of each Boolean operator's truth tables (i.e. every possible combination of Boolean values for the operator and what it evaluate)"
   ]
  },
  {
   "cell_type": "code",
   "execution_count": null,
   "id": "a75c1c0f",
   "metadata": {},
   "outputs": [],
   "source": [
    "For OR Gate\n",
    "InputA   InputB    Output\n",
    "0         0          0\n",
    "0         1          1  \n",
    "1         0          1\n",
    "1         1          1\n",
    "\n",
    "For AND Gate\n",
    "InputA    InputB     Output\n",
    "0          0          0 \n",
    "0          1          0\n",
    "1          0          0 \n",
    "1          1          1\n",
    "\n",
    "For Not Gate\n",
    "InputA    Output     \n",
    "0          1\n",
    "1          0"
   ]
  },
  {
   "cell_type": "code",
   "execution_count": null,
   "id": "33f29ace",
   "metadata": {},
   "outputs": [],
   "source": [
    "4. What are the values of the following expressions?\n",
    "(5 > 4) and (3 == 5)\n",
    "1 and 0\n",
    "False\n",
    "\n",
    "\n",
    "\n",
    "not (5 > 4)\n",
    "False\n",
    "\n",
    "\n",
    "\n",
    "(5 > 4) or (3 == 5)\n",
    "1 or 0\n",
    "True\n",
    "\n",
    "not ((5 > 4) or (3 == 5))\n",
    "False\n",
    "\n",
    "\n",
    "(True and True) and (True == False)\n",
    "False\n",
    "\n",
    "\n",
    "\n",
    "(not False) or (not True)\n",
    "True\n",
    "\n"
   ]
  },
  {
   "cell_type": "code",
   "execution_count": null,
   "id": "33b43665",
   "metadata": {},
   "outputs": [],
   "source": [
    "5. What are the six comparison operators?\n",
    "\n",
    "equal to                   == \n",
    "not equal to               !=\n",
    "greater than                >\n",
    "less than                   <\n",
    "greater than or equal to    >=\n",
    "less than or equal to       <="
   ]
  },
  {
   "cell_type": "code",
   "execution_count": null,
   "id": "b44f8dd3",
   "metadata": {},
   "outputs": [],
   "source": [
    "6. How do you tell the difference between the equal to and assignment operators?Describe a condition and when you would use one.\n",
    "\n",
    "\n",
    "\n",
    "A = 5 is assignment operator\n",
    "a == 5 is comparion operator "
   ]
  },
  {
   "cell_type": "code",
   "execution_count": null,
   "id": "c1e89c30",
   "metadata": {},
   "outputs": [],
   "source": [
    "7. Identify the three blocks in this code:\n",
    "    \n",
    "spam = 0\n",
    "if spam == 10:\n",
    "    print('eggs')\n",
    "     if spam > 5:\n",
    "        print('bacon')\n",
    "        else:\n",
    "            print('ham')\n",
    "        print('spam')\n",
    "    print('spam')\n",
    "    \n",
    "    \n"
   ]
  },
  {
   "cell_type": "code",
   "execution_count": null,
   "id": "21feebd5",
   "metadata": {},
   "outputs": [],
   "source": [
    "8. Write code that prints Hello if 1 is stored in spam, prints Howdy \n",
    "if 2 is stored in spam, and prints Greetings! if anything else is stored in spam.\n"
   ]
  },
  {
   "cell_type": "code",
   "execution_count": 14,
   "id": "59ee03a1",
   "metadata": {
    "scrolled": true
   },
   "outputs": [
    {
     "name": "stdout",
     "output_type": "stream",
     "text": [
      "3\n",
      "Greeting\n"
     ]
    }
   ],
   "source": [
    "spam=input()\n",
    "spam = int(spam)\n",
    "if spam ==1:\n",
    "    print(\"Hello\")\n",
    "elif spam ==2:\n",
    "        print(\"Howdy\")\n",
    "else:\n",
    "        print(\"Greeting\")"
   ]
  },
  {
   "cell_type": "code",
   "execution_count": null,
   "id": "679f5ebe",
   "metadata": {},
   "outputs": [],
   "source": [
    "9.If your programme is stuck in an endless loop, what keys you’ll press?\n",
    "\n",
    "I will use break function"
   ]
  },
  {
   "cell_type": "code",
   "execution_count": null,
   "id": "ad6eb19c",
   "metadata": {},
   "outputs": [],
   "source": [
    "10. How can you tell the difference between break and continue?\n",
    "\n",
    "break function will stop the endless loop being implemented and continue function is use  to compile the function again and again mainly used for  while function"
   ]
  },
  {
   "cell_type": "code",
   "execution_count": 17,
   "id": "49071f4d",
   "metadata": {},
   "outputs": [
    {
     "data": {
      "text/plain": [
       "range(0, 10)"
      ]
     },
     "execution_count": 17,
     "metadata": {},
     "output_type": "execute_result"
    }
   ],
   "source": [
    "11. In a for loop, what is the difference between range(10), range(0, 10), and range(0, 10, 1)?\n",
    "\n",
    "They are nothing but the same"
   ]
  },
  {
   "cell_type": "code",
   "execution_count": null,
   "id": "d0d38841",
   "metadata": {},
   "outputs": [],
   "source": [
    "11. In a for loop, what is the difference between range(10), range(0, 10), and range(0, 10, 1)?\n",
    "\n",
    "\n"
   ]
  },
  {
   "cell_type": "code",
   "execution_count": 25,
   "id": "887e08cb",
   "metadata": {},
   "outputs": [
    {
     "name": "stdout",
     "output_type": "stream",
     "text": [
      "1\n",
      "2\n",
      "3\n",
      "4\n",
      "5\n",
      "6\n",
      "7\n",
      "8\n",
      "9\n",
      "10\n",
      "\n"
     ]
    }
   ],
   "source": [
    "for i in range(1,11):\n",
    "    print(i)\n",
    "else:\n",
    "    print(\"\")\n",
    "    \n",
    "    "
   ]
  },
  {
   "cell_type": "code",
   "execution_count": null,
   "id": "9818cee1",
   "metadata": {},
   "outputs": [],
   "source": [
    "i =1\n",
    "while 0 < i < 11:\n",
    "     print(i)\n",
    "    "
   ]
  },
  {
   "cell_type": "code",
   "execution_count": null,
   "id": "ad1abc2a",
   "metadata": {},
   "outputs": [],
   "source": [
    "13. If you had a function named bacon() inside a module named spam, how would you call it after importing spam?"
   ]
  },
  {
   "cell_type": "code",
   "execution_count": null,
   "id": "d72ec616",
   "metadata": {},
   "outputs": [],
   "source": [
    "spam.bacon()"
   ]
  }
 ],
 "metadata": {
  "kernelspec": {
   "display_name": "Python 3 (ipykernel)",
   "language": "python",
   "name": "python3"
  },
  "language_info": {
   "codemirror_mode": {
    "name": "ipython",
    "version": 3
   },
   "file_extension": ".py",
   "mimetype": "text/x-python",
   "name": "python",
   "nbconvert_exporter": "python",
   "pygments_lexer": "ipython3",
   "version": "3.9.7"
  }
 },
 "nbformat": 4,
 "nbformat_minor": 5
}
