{
 "cells": [
  {
   "cell_type": "code",
   "execution_count": 1,
   "id": "6ee62d7b",
   "metadata": {},
   "outputs": [
    {
     "name": "stdout",
     "output_type": "stream",
     "text": [
      "Hello Python\n"
     ]
    }
   ],
   "source": [
    "#11.\tWrite a Python program to print \"Hello Python\"?\n",
    "print(\"Hello Python\")  "
   ]
  },
  {
   "cell_type": "code",
   "execution_count": 3,
   "id": "383e065c",
   "metadata": {},
   "outputs": [],
   "source": [
    "#2 2.\tWrite a Python program to do arithmetical operations addition and division.?\n",
    "a =2 + 5\n",
    "b = 10/2"
   ]
  },
  {
   "cell_type": "code",
   "execution_count": 4,
   "id": "7569a778",
   "metadata": {},
   "outputs": [
    {
     "data": {
      "text/plain": [
       "7"
      ]
     },
     "execution_count": 4,
     "metadata": {},
     "output_type": "execute_result"
    }
   ],
   "source": [
    "a\n"
   ]
  },
  {
   "cell_type": "code",
   "execution_count": 5,
   "id": "d156a930",
   "metadata": {},
   "outputs": [
    {
     "data": {
      "text/plain": [
       "5.0"
      ]
     },
     "execution_count": 5,
     "metadata": {},
     "output_type": "execute_result"
    }
   ],
   "source": [
    "b"
   ]
  },
  {
   "cell_type": "code",
   "execution_count": 14,
   "id": "ca194952",
   "metadata": {},
   "outputs": [],
   "source": [
    "#3 3.\tWrite a Python program to find the area of a triangle?\n",
    "#when length L = 2 m and height H = 3m , Areaof trangle is A = 0.5*L*H\n",
    "l = 2 \n",
    "h = 3\n",
    "A = 0.5*l*h"
   ]
  },
  {
   "cell_type": "code",
   "execution_count": 15,
   "id": "319860fd",
   "metadata": {},
   "outputs": [
    {
     "data": {
      "text/plain": [
       "3.0"
      ]
     },
     "execution_count": 15,
     "metadata": {},
     "output_type": "execute_result"
    }
   ],
   "source": [
    "A\n"
   ]
  },
  {
   "cell_type": "code",
   "execution_count": 16,
   "id": "7bb350fb",
   "metadata": {},
   "outputs": [],
   "source": [
    "#4  4.\tWrite a Python program to swap two variables?\n",
    "x = 4\n",
    "y = 5\n",
    "\n",
    "a = y\n",
    "y = x\n",
    "x = a"
   ]
  },
  {
   "cell_type": "code",
   "execution_count": 17,
   "id": "ad9350e5",
   "metadata": {},
   "outputs": [
    {
     "data": {
      "text/plain": [
       "5"
      ]
     },
     "execution_count": 17,
     "metadata": {},
     "output_type": "execute_result"
    }
   ],
   "source": [
    "x\n"
   ]
  },
  {
   "cell_type": "code",
   "execution_count": 18,
   "id": "933dd8f5",
   "metadata": {},
   "outputs": [
    {
     "data": {
      "text/plain": [
       "4"
      ]
     },
     "execution_count": 18,
     "metadata": {},
     "output_type": "execute_result"
    }
   ],
   "source": [
    "y"
   ]
  },
  {
   "cell_type": "code",
   "execution_count": 24,
   "id": "112c5bbd",
   "metadata": {},
   "outputs": [
    {
     "name": "stdout",
     "output_type": "stream",
     "text": [
      "0.7271931341159193\n"
     ]
    }
   ],
   "source": [
    "#5 5.\tWrite a Python program to generate a random number?\n",
    "\n",
    "import random\n",
    "n = random.random()\n",
    "print(n)\n",
    "\n"
   ]
  },
  {
   "cell_type": "code",
   "execution_count": null,
   "id": "237e3060",
   "metadata": {},
   "outputs": [],
   "source": []
  },
  {
   "cell_type": "code",
   "execution_count": null,
   "id": "3b25d204",
   "metadata": {},
   "outputs": [],
   "source": []
  }
 ],
 "metadata": {
  "kernelspec": {
   "display_name": "Python 3 (ipykernel)",
   "language": "python",
   "name": "python3"
  },
  "language_info": {
   "codemirror_mode": {
    "name": "ipython",
    "version": 3
   },
   "file_extension": ".py",
   "mimetype": "text/x-python",
   "name": "python",
   "nbconvert_exporter": "python",
   "pygments_lexer": "ipython3",
   "version": "3.9.7"
  }
 },
 "nbformat": 4,
 "nbformat_minor": 5
}
